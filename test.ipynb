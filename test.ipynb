{
 "cells": [
  {
   "cell_type": "markdown",
   "id": "satisfied-counter",
   "metadata": {},
   "source": [
    "# Test notebook"
   ]
  },
  {
   "cell_type": "code",
   "execution_count": 22,
   "id": "competent-genius",
   "metadata": {},
   "outputs": [
    {
     "name": "stdout",
     "output_type": "stream",
     "text": [
      "The autoreload extension is already loaded. To reload it, use:\n",
      "  %reload_ext autoreload\n"
     ]
    }
   ],
   "source": [
    "%load_ext autoreload\n",
    "%autoreload 2\n",
    "from pathlib import Path, PurePath\n",
    "import srcfilesnetwork as utils\n",
    "import networkx as nx\n",
    "from pyvis.network import Network"
   ]
  },
  {
   "cell_type": "markdown",
   "id": "superb-harvey",
   "metadata": {},
   "source": [
    "1) get all .py files in a directory "
   ]
  },
  {
   "cell_type": "code",
   "execution_count": 23,
   "id": "neural-packing",
   "metadata": {},
   "outputs": [],
   "source": [
    "testpath = Path('.')\n",
    "# testpath = Path().home() / Path('projects/uncertainty/')\n",
    "fn = utils.FileNetwork(testpath)\n",
    "nt = Network('1500px', '1500px')\n",
    "nt.toggle_physics(True)\n",
    "nt.from_nx(fn.network)\n",
    "nt.set_options(utils.get_pyvis_options())\n",
    "nt.show('nx.html')"
   ]
  },
  {
   "cell_type": "code",
   "execution_count": 91,
   "id": "infectious-thursday",
   "metadata": {},
   "outputs": [],
   "source": [
    "testpath = Path().home() / Path('projects/uncertainty/')\n",
    "# testpath = Path('./test')\n",
    "fn = utils.FileNetwork(testpath)\n",
    "nt = Network('1500px', '1500px')\n",
    "nt.toggle_physics(True)\n",
    "nt.from_nx(fn.network)\n",
    "\n",
    "nt.show_buttons()\n",
    "nt.show('nx.html')"
   ]
  }
 ],
 "metadata": {
  "kernelspec": {
   "display_name": "Python 3",
   "language": "python",
   "name": "python3"
  },
  "language_info": {
   "codemirror_mode": {
    "name": "ipython",
    "version": 3
   },
   "file_extension": ".py",
   "mimetype": "text/x-python",
   "name": "python",
   "nbconvert_exporter": "python",
   "pygments_lexer": "ipython3",
   "version": "3.8.5"
  }
 },
 "nbformat": 4,
 "nbformat_minor": 5
}
