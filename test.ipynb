{
 "cells": [
  {
   "cell_type": "markdown",
   "id": "legendary-current",
   "metadata": {},
   "source": [
    "# Test notebook"
   ]
  },
  {
   "cell_type": "code",
   "execution_count": 1,
   "id": "medium-addition",
   "metadata": {},
   "outputs": [],
   "source": [
    "%load_ext autoreload\n",
    "%autoreload 2\n",
    "from pathlib import Path, PurePath\n",
    "import src.utils as utils\n",
    "import networkx as nx\n",
    "from pyvis.network import Network"
   ]
  },
  {
   "cell_type": "markdown",
   "id": "figured-organizer",
   "metadata": {},
   "source": [
    "1) get all .py files in a directory "
   ]
  },
  {
   "cell_type": "code",
   "execution_count": 90,
   "id": "positive-glenn",
   "metadata": {},
   "outputs": [],
   "source": [
    "testpath = Path().home() / Path('projects/uncertainty/')\n",
    "# testpath = Path('./test')\n",
    "# fn = utils.FileNetwork(testpath)\n",
    "# edgelist = fn.network_edges()\n",
    "# nodes = fn.network_nodes()\n",
    "# nodes"
   ]
  },
  {
   "cell_type": "code",
   "execution_count": null,
   "id": "abandoned-ambassador",
   "metadata": {},
   "outputs": [],
   "source": [
    "with open('.gitignore', 'r') as f:\n",
    "    f.readlines"
   ]
  },
  {
   "cell_type": "code",
   "execution_count": 91,
   "id": "tamil-controversy",
   "metadata": {},
   "outputs": [],
   "source": [
    "fn = utils.FileNetwork(testpath)\n",
    "nt = Network('1500px', '1500px')\n",
    "nt.toggle_physics(True)\n",
    "nt.from_nx(fn.network)\n",
    "\n",
    "nt.show_buttons()\n",
    "nt.show('nx.html')"
   ]
  },
  {
   "cell_type": "code",
   "execution_count": 94,
   "id": "scheduled-platinum",
   "metadata": {},
   "outputs": [],
   "source": [
    "testpath = Path('.')\n",
    "testpath = Path().home() / Path('projects/uncertainty/')\n",
    "fn = utils.FileNetwork(testpath)\n",
    "nt = Network('1500px', '1500px')\n",
    "nt.toggle_physics(True)\n",
    "nt.from_nx(fn.network)\n",
    "nt.set_options(utils.get_pyvis_options())\n",
    "nt.show('nx.html')"
   ]
  },
  {
   "cell_type": "code",
   "execution_count": 49,
   "id": "gentle-disclosure",
   "metadata": {},
   "outputs": [
    {
     "data": {
      "text/plain": [
       "''"
      ]
     },
     "execution_count": 49,
     "metadata": {},
     "output_type": "execute_result"
    }
   ],
   "source": [
    "testpath = Path('.')\n",
    "\n",
    "set(\n",
    "    (Path(testpath) / Path(gitignore[0])).glob('**/*.py')\n",
    ")\n",
    "Path(gitignore[5]+'*').suffix"
   ]
  },
  {
   "cell_type": "code",
   "execution_count": 89,
   "id": "sealed-ferry",
   "metadata": {},
   "outputs": [
    {
     "data": {
      "text/plain": [
       "True"
      ]
     },
     "execution_count": 89,
     "metadata": {},
     "output_type": "execute_result"
    }
   ],
   "source": [
    "gitignorefile.exists()"
   ]
  },
  {
   "cell_type": "code",
   "execution_count": 86,
   "id": "empty-installation",
   "metadata": {},
   "outputs": [
    {
     "name": "stdout",
     "output_type": "stream",
     "text": [
      "[PosixPath('test/test1.py'), PosixPath('test/test3.py'), PosixPath('src/utils.py'), PosixPath('test/test2.py'), PosixPath('test/test4.py')]\n"
     ]
    }
   ],
   "source": [
    "testpath = Path('.')\n",
    "gitignorefile = testpath / Path('.gitignore')\n",
    "if gitignorefile.exists():\n",
    "    with gitignorefile.open() as f:\n",
    "        lines = f.read().splitlines()\n",
    "    gitignore = [Path(line) for line in lines if not line.strip().startswith('#') and len(line.strip())>1 and Path(line).suffix==''] + [Path('.git')]\n",
    "    viablepaths = [p for p in testpath.glob('*/') if p.is_dir() and p not in gitignore]\n",
    "    filelist = set().union(*[set(p.glob('**/*.py')) for p in viablepaths])\n",
    "else filelist = \n",
    "print(list(filelist))"
   ]
  },
  {
   "cell_type": "code",
   "execution_count": 24,
   "id": "amateur-variable",
   "metadata": {},
   "outputs": [],
   "source": []
  },
  {
   "cell_type": "markdown",
   "id": "smoking-favorite",
   "metadata": {},
   "source": [
    "2) for a file, get all imports and its size (linecount)"
   ]
  },
  {
   "cell_type": "code",
   "execution_count": 109,
   "id": "presidential-relations",
   "metadata": {},
   "outputs": [
    {
     "name": "stdout",
     "output_type": "stream",
     "text": [
      "src/fui/cluster.py\n",
      "File size: 295\n",
      "['os', 'itertools', 'gensim', 'numpy', 'pandas', 'codecs', 'json', 'matplotlib', 'matplotlib.collections', 'scipy.cluster.hierarchy', 'src.fui.hierarchymod', 'src.fui.utils', 'scipy.spatial.distance']\n"
     ]
    }
   ],
   "source": [
    "importlist, filesize = utils.get_imports(testpath / filelist[1])\n",
    "print(filelist[1])\n",
    "print(f'File size: {filesize}')\n",
    "print(importlist)"
   ]
  },
  {
   "cell_type": "markdown",
   "id": "happy-algebra",
   "metadata": {},
   "source": [
    "3) For a list of imports, split the between \"internal\" and \"external\"\n",
    "\n",
    "    a) Check if common prefix"
   ]
  },
  {
   "cell_type": "code",
   "execution_count": 48,
   "id": "convenient-sunset",
   "metadata": {},
   "outputs": [
    {
     "data": {
      "text/plain": [
       "('scipy.spatial', 'distance')"
      ]
     },
     "execution_count": 48,
     "metadata": {},
     "output_type": "execute_result"
    }
   ],
   "source": [
    "mod_split = importlist[-1].split('.')\n",
    "prefix = '.'.join(mod_split[:-1])\n",
    "stem = mod_split[-1]\n",
    "prefix, stem"
   ]
  },
  {
   "cell_type": "code",
   "execution_count": 58,
   "id": "tribal-enzyme",
   "metadata": {},
   "outputs": [],
   "source": [
    "internal = []\n",
    "prefixes = []\n",
    "for _import_ in importlist:\n",
    "    mod_split = _import_.split('.')\n",
    "    if mod_split[-1] in [f.stem for f in filelist]:\n",
    "        prefixes.append('.'.join(mod_split[:-1]))\n",
    "prefixes.append('src.fui.subdir')"
   ]
  },
  {
   "cell_type": "code",
   "execution_count": 64,
   "id": "another-puppy",
   "metadata": {},
   "outputs": [
    {
     "data": {
      "text/plain": [
       "True"
      ]
     },
     "execution_count": 64,
     "metadata": {},
     "output_type": "execute_result"
    }
   ],
   "source": [
    "pf = sorted(set(prefixes))\n",
    "if all([p.startswith(pf[0]) for p in pf]):\n",
    "    prefix = pf[0]"
   ]
  }
 ],
 "metadata": {
  "kernelspec": {
   "display_name": "Python 3",
   "language": "python",
   "name": "python3"
  },
  "language_info": {
   "codemirror_mode": {
    "name": "ipython",
    "version": 3
   },
   "file_extension": ".py",
   "mimetype": "text/x-python",
   "name": "python",
   "nbconvert_exporter": "python",
   "pygments_lexer": "ipython3",
   "version": "3.8.5"
  }
 },
 "nbformat": 4,
 "nbformat_minor": 5
}
