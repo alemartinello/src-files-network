{
 "cells": [
  {
   "cell_type": "markdown",
   "id": "operating-firewall",
   "metadata": {},
   "source": [
    "# Test notebook"
   ]
  },
  {
   "cell_type": "code",
   "execution_count": 83,
   "id": "curious-abraham",
   "metadata": {},
   "outputs": [
    {
     "name": "stdout",
     "output_type": "stream",
     "text": [
      "The autoreload extension is already loaded. To reload it, use:\n",
      "  %reload_ext autoreload\n"
     ]
    }
   ],
   "source": [
    "%load_ext autoreload\n",
    "%autoreload 2\n",
    "from pathlib import Path, PurePath\n",
    "import src.utils as utils\n",
    "import networkx as nx\n",
    "from pyvis.network import Network"
   ]
  },
  {
   "cell_type": "markdown",
   "id": "settled-smile",
   "metadata": {},
   "source": [
    "1) get all .py files in a directory "
   ]
  },
  {
   "cell_type": "code",
   "execution_count": 85,
   "id": "accurate-robertson",
   "metadata": {},
   "outputs": [],
   "source": [
    "testpath = Path().home() / Path('projects/uncertainty/')\n",
    "# testpath = Path('./test')\n",
    "# fn = utils.FileNetwork(testpath)\n",
    "# edgelist = fn.network_edges()\n",
    "# nodes = fn.network_nodes()\n",
    "# nodes"
   ]
  },
  {
   "cell_type": "code",
   "execution_count": 90,
   "id": "exposed-collective",
   "metadata": {},
   "outputs": [],
   "source": [
    "fn = utils.FileNetwork(testpath)\n",
    "\n",
    "nt = Network('1500px', '1500px')\n",
    "nt.toggle_physics(True)\n",
    "nt.from_nx(fn.network)\n",
    "\n",
    "nt.show_buttons()\n",
    "nt.show('nx.html')"
   ]
  },
  {
   "cell_type": "code",
   "execution_count": 69,
   "id": "continued-cabin",
   "metadata": {},
   "outputs": [],
   "source": []
  },
  {
   "cell_type": "code",
   "execution_count": null,
   "id": "comic-culture",
   "metadata": {},
   "outputs": [],
   "source": [
    "# nt.set_options(\"\"\"\n",
    "# var options = {\n",
    "#   \"nodes\": {\n",
    "#     \"color\": {\n",
    "#       \"border\": \"rgba(0,0,0,1)\",\n",
    "#       \"background\": \"rgba(122,122,122,1)\"\n",
    "#     },\n",
    "#     \"font\": {\n",
    "#       \"size\": 12\n",
    "#     },\n",
    "#     \"scaling\": {\n",
    "#       \"min\": 12\n",
    "#     },\n",
    "#     \"shapeProperties\": {\n",
    "#       \"borderRadius\": 4\n",
    "#     }\n",
    "#   },\n",
    "#   \"edges\": {\n",
    "#     \"arrows\": {\n",
    "#       \"to\": {\n",
    "#         \"enabled\": true,\n",
    "#         \"scaleFactor\": 0.4\n",
    "#       }\n",
    "#     },\n",
    "#     \"smooth\": {\n",
    "#       \"type\": \"continuous\",\n",
    "#       \"forceDirection\": \"none\"\n",
    "#     }\n",
    "#     \"color\": {\n",
    "#       \"inherit\": true\n",
    "#     }\n",
    "#   }\n",
    "# }\n",
    "# \"\"\")"
   ]
  },
  {
   "cell_type": "markdown",
   "id": "modified-andrew",
   "metadata": {},
   "source": [
    "2) for a file, get all imports and its size (linecount)"
   ]
  },
  {
   "cell_type": "code",
   "execution_count": 109,
   "id": "interstate-technical",
   "metadata": {},
   "outputs": [
    {
     "name": "stdout",
     "output_type": "stream",
     "text": [
      "src/fui/cluster.py\n",
      "File size: 295\n",
      "['os', 'itertools', 'gensim', 'numpy', 'pandas', 'codecs', 'json', 'matplotlib', 'matplotlib.collections', 'scipy.cluster.hierarchy', 'src.fui.hierarchymod', 'src.fui.utils', 'scipy.spatial.distance']\n"
     ]
    }
   ],
   "source": [
    "importlist, filesize = utils.get_imports(testpath / filelist[1])\n",
    "print(filelist[1])\n",
    "print(f'File size: {filesize}')\n",
    "print(importlist)"
   ]
  },
  {
   "cell_type": "markdown",
   "id": "unusual-warehouse",
   "metadata": {},
   "source": [
    "3) For a list of imports, split the between \"internal\" and \"external\"\n",
    "\n",
    "    a) Check if common prefix"
   ]
  },
  {
   "cell_type": "code",
   "execution_count": 48,
   "id": "martial-advocacy",
   "metadata": {},
   "outputs": [
    {
     "data": {
      "text/plain": [
       "('scipy.spatial', 'distance')"
      ]
     },
     "execution_count": 48,
     "metadata": {},
     "output_type": "execute_result"
    }
   ],
   "source": [
    "mod_split = importlist[-1].split('.')\n",
    "prefix = '.'.join(mod_split[:-1])\n",
    "stem = mod_split[-1]\n",
    "prefix, stem"
   ]
  },
  {
   "cell_type": "code",
   "execution_count": 58,
   "id": "blessed-battle",
   "metadata": {},
   "outputs": [],
   "source": [
    "internal = []\n",
    "prefixes = []\n",
    "for _import_ in importlist:\n",
    "    mod_split = _import_.split('.')\n",
    "    if mod_split[-1] in [f.stem for f in filelist]:\n",
    "        prefixes.append('.'.join(mod_split[:-1]))\n",
    "prefixes.append('src.fui.subdir')"
   ]
  },
  {
   "cell_type": "code",
   "execution_count": 64,
   "id": "instructional-majority",
   "metadata": {},
   "outputs": [
    {
     "data": {
      "text/plain": [
       "True"
      ]
     },
     "execution_count": 64,
     "metadata": {},
     "output_type": "execute_result"
    }
   ],
   "source": [
    "pf = sorted(set(prefixes))\n",
    "if all([p.startswith(pf[0]) for p in pf]):\n",
    "    prefix = pf[0]"
   ]
  }
 ],
 "metadata": {
  "kernelspec": {
   "display_name": "Python 3",
   "language": "python",
   "name": "python3"
  },
  "language_info": {
   "codemirror_mode": {
    "name": "ipython",
    "version": 3
   },
   "file_extension": ".py",
   "mimetype": "text/x-python",
   "name": "python",
   "nbconvert_exporter": "python",
   "pygments_lexer": "ipython3",
   "version": "3.8.5"
  }
 },
 "nbformat": 4,
 "nbformat_minor": 5
}
